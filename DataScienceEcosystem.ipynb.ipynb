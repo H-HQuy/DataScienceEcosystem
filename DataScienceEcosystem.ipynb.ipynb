{
 "cells": [
  {
   "cell_type": "markdown",
   "id": "d9e259b2-d1fb-401a-9005-ba7798ccbfe6",
   "metadata": {},
   "source": [
    "#  Science Tools and Ecosystem\n"
   ]
  },
  {
   "cell_type": "markdown",
   "id": "a43ae25f-51d0-4ee0-afa5-4c52163dde05",
   "metadata": {},
   "source": [
    "In this notebook, Data Science Tools and Ecosystem are summarized."
   ]
  },
  {
   "cell_type": "markdown",
   "id": "f3d37890-dd5a-4d4b-8636-7133309df02a",
   "metadata": {},
   "source": [
    "**Objectives:**\n",
    "* Some of the popular languages that Data Scientists use are:\n",
    "* Some of the commonly used libraries used by Data Scientists include:\n",
    "* Below are a few examples of evaluating arithmetic expressions in Python\n",
    "* "
   ]
  },
  {
   "cell_type": "markdown",
   "id": "89590c27-fa14-4fcb-a002-357b623f4ee8",
   "metadata": {},
   "source": [
    "Some of the popular languages that Data Scientists use are:\n",
    "1. Python\n",
    "2. R\n",
    "3. Java"
   ]
  },
  {
   "cell_type": "markdown",
   "id": "f1374e0b-f474-4038-8f1f-25c57a3a6fe8",
   "metadata": {},
   "source": [
    "Some of the commonly used libraries used by Data Scientists include:\n",
    "1. Pandas\n",
    "2. Numpy\n",
    "3. Matplotlib\n",
    "4. Seaborn\n",
    "5. "
   ]
  },
  {
   "cell_type": "markdown",
   "id": "5e836ac4-ac92-44f6-94a8-830b9cbb10c3",
   "metadata": {},
   "source": [
    "|Data Science Tools|\n",
    "|------------------|\n",
    "|Jupiter|\n",
    "|VS code|\n",
    "|R Studio|"
   ]
  },
  {
   "cell_type": "markdown",
   "id": "cab9f6b2-a9f6-4b18-a225-2e24cfe8a0f6",
   "metadata": {},
   "source": [
    "### Below are a few examples of evaluating arithmetic expressions in Python"
   ]
  },
  {
   "cell_type": "code",
   "execution_count": 1,
   "id": "a46b302e-6eca-47dd-b79b-1ebd66345288",
   "metadata": {
    "scrolled": true
   },
   "outputs": [
    {
     "data": {
      "text/plain": [
       "17"
      ]
     },
     "execution_count": 1,
     "metadata": {},
     "output_type": "execute_result"
    }
   ],
   "source": [
    "# This a simple arithmetic expression to mutiply then add integers.\n",
    "(3*4)+5"
   ]
  },
  {
   "cell_type": "code",
   "execution_count": 3,
   "id": "d317f82c-9e9c-4363-9b03-f88038f114e9",
   "metadata": {},
   "outputs": [
    {
     "data": {
      "text/plain": [
       "3.3333333333333335"
      ]
     },
     "execution_count": 3,
     "metadata": {},
     "output_type": "execute_result"
    }
   ],
   "source": [
    "# This will convert 200 minutes to hours by diving by 60\n",
    "200/60"
   ]
  },
  {
   "cell_type": "markdown",
   "id": "80483005-7a2d-4d65-92bc-931b6fc7a8d6",
   "metadata": {},
   "source": [
    "## Author\n",
    "Hoang H Quy"
   ]
  },
  {
   "cell_type": "code",
   "execution_count": null,
   "id": "20ddfb9e-3e1f-4cb7-b37a-9e8fa8c8dc6a",
   "metadata": {},
   "outputs": [],
   "source": []
  }
 ],
 "metadata": {
  "kernelspec": {
   "display_name": "Python 3 (ipykernel)",
   "language": "python",
   "name": "python3"
  },
  "language_info": {
   "codemirror_mode": {
    "name": "ipython",
    "version": 3
   },
   "file_extension": ".py",
   "mimetype": "text/x-python",
   "name": "python",
   "nbconvert_exporter": "python",
   "pygments_lexer": "ipython3",
   "version": "3.12.4"
  }
 },
 "nbformat": 4,
 "nbformat_minor": 5
}
